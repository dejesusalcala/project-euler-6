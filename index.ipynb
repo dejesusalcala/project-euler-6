{
 "cells": [
  {
   "cell_type": "raw",
   "metadata": {},
   "source": [
    "--- \n",
    "author: Angel Alcala Ruiz\n",
    "date: November 20, 2023\n",
    "format:\n",
    "    html:\n",
    "        code-fold: show\n",
    "        code-tools: true\n",
    "--- "
   ]
  },
  {
   "attachments": {},
   "cell_type": "markdown",
   "metadata": {},
   "source": [
    "# Project Euler"
   ]
  },
  {
   "attachments": {},
   "cell_type": "markdown",
   "metadata": {},
   "source": [
    "## Problem 6: Sum Square Difference"
   ]
  },
  {
   "attachments": {},
   "cell_type": "markdown",
   "metadata": {},
   "source": [
    "The sum of the square of the first ten natural numbers is,\n",
    "\n",
    "$$\n",
    "1^2 + 2^2 + \\ldots + 10^2 = 385\n",
    "$$\n",
    "\n",
    "The square of the sum of the first ten natural numbers is, \n",
    "\n",
    "$$\n",
    "\\left( 1 + 2 + \\ldots + 10 \\right)^2 = 55^2 = 3025\n",
    "$$\n",
    "\n",
    "Hence the difference between the sum of the squares of the first ten natural numbers and the square of the sum is $3025 - 385 = 2640$.\n",
    "\n",
    "Find the difference between the sum of the square of the first one hundred natural numbers and the square of the sum."
   ]
  },
  {
   "attachments": {},
   "cell_type": "markdown",
   "metadata": {},
   "source": [
    "Let's solve using **Julia**"
   ]
  },
  {
   "cell_type": "code",
   "execution_count": null,
   "metadata": {},
   "outputs": [],
   "source": [
    "function SumSquareDifference(n)\n",
    "\n",
    "#' @@name SumSquareDifference\n",
    "#'\n",
    "#' @@description\n",
    "#'\n",
    "#' This function finds the differnce between the sum of the square of the first n natural numbers and the square of the sum\n",
    "#'\n",
    "#' @@arg n: A positive integer n\n",
    "#'\n",
    "#' @@return The differnce between the sum of the square of the first n natural numbers and the square of the sum\n",
    "#'\n",
    "#' @@examples\n",
    "#'\n",
    "#' n = 10\n",
    "#' SumOfSquareDifference(n)\n",
    "\n",
    "sum_of_squares = 0\n",
    "sum = 0\n",
    "\n",
    "    for i = 1:n\n",
    "        sum_of_squares = sum_of_squares + (i^2)\n",
    "        sum = sum + i\n",
    "    end\n",
    "    \n",
    "    square_of_sum = sum^2\n",
    "    difference = square_of_sum - sum_of_squares\n",
    "    return difference, square_of_sum, sum_of_squares\n",
    "end"
   ]
  },
  {
   "attachments": {},
   "cell_type": "markdown",
   "metadata": {},
   "source": [
    "Let's begin by checking the given example of the first 10 natural numbers"
   ]
  },
  {
   "cell_type": "code",
   "execution_count": null,
   "metadata": {},
   "outputs": [],
   "source": [
    "SumSquareDifference(10)"
   ]
  },
  {
   "attachments": {},
   "cell_type": "markdown",
   "metadata": {},
   "source": [
    "Therefore we can see that the difference is 2640 which is the correct solution."
   ]
  },
  {
   "attachments": {},
   "cell_type": "markdown",
   "metadata": {},
   "source": [
    "Now let's find the difference of the sum of the squares of the first one hundred natural numbers and the square of the sum"
   ]
  },
  {
   "cell_type": "code",
   "execution_count": null,
   "metadata": {},
   "outputs": [],
   "source": [
    "SumSquareDifference(100)"
   ]
  },
  {
   "attachments": {},
   "cell_type": "markdown",
   "metadata": {},
   "source": [
    "Therefore the difference is 25,164,150."
   ]
  }
 ],
 "metadata": {
  "kernelspec": {
   "display_name": "Julia 1.8.3",
   "language": "julia",
   "name": "julia-1.8"
  },
  "language_info": {
   "file_extension": ".jl",
   "mimetype": "application/julia",
   "name": "julia",
   "version": "1.8.3"
  },
  "orig_nbformat": 4
 },
 "nbformat": 4,
 "nbformat_minor": 2
}
